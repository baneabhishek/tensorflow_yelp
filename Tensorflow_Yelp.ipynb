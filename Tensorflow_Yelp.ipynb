{
  "nbformat": 4,
  "nbformat_minor": 0,
  "metadata": {
    "colab": {
      "name": "Tensorflow_Yelp.ipynb",
      "provenance": [],
      "collapsed_sections": [],
      "authorship_tag": "ABX9TyNUI3q771iog/AIIaKNbk3q",
      "include_colab_link": true
    },
    "kernelspec": {
      "name": "python3",
      "display_name": "Python 3"
    },
    "accelerator": "GPU"
  },
  "cells": [
    {
      "cell_type": "markdown",
      "metadata": {
        "id": "view-in-github",
        "colab_type": "text"
      },
      "source": [
        "<a href=\"https://colab.research.google.com/github/baneabhishek/tensorflow_yelp/blob/main/Tensorflow_Yelp.ipynb\" target=\"_parent\"><img src=\"https://colab.research.google.com/assets/colab-badge.svg\" alt=\"Open In Colab\"/></a>"
      ]
    },
    {
      "cell_type": "code",
      "metadata": {
        "id": "n-6EJLCAbohJ"
      },
      "source": [
        "import pandas as pd\n",
        "import numpy as np\n",
        "import os\n",
        "import tensorflow as tf\n",
        "from sklearn.model_selection import train_test_split"
      ],
      "execution_count": 59,
      "outputs": []
    },
    {
      "cell_type": "code",
      "metadata": {
        "colab": {
          "base_uri": "https://localhost:8080/"
        },
        "id": "s5RD0jaqb9TM",
        "outputId": "2bcf83b8-5f7b-4800-b6e9-d8c449a0ecfa"
      },
      "source": [
        "!pip install pickle5\n",
        "import pickle5"
      ],
      "execution_count": 60,
      "outputs": [
        {
          "output_type": "stream",
          "text": [
            "Requirement already satisfied: pickle5 in /usr/local/lib/python3.6/dist-packages (0.0.11)\n"
          ],
          "name": "stdout"
        }
      ]
    },
    {
      "cell_type": "code",
      "metadata": {
        "colab": {
          "base_uri": "https://localhost:8080/"
        },
        "id": "uVj1dm4gdJzE",
        "outputId": "389d107a-5ace-4956-ebc5-3d38710b9799"
      },
      "source": [
        "from google.colab import drive\n",
        "drive.mount('/content/drive',force_remount=True)"
      ],
      "execution_count": 3,
      "outputs": [
        {
          "output_type": "stream",
          "text": [
            "Mounted at /content/drive\n"
          ],
          "name": "stdout"
        }
      ]
    },
    {
      "cell_type": "code",
      "metadata": {
        "id": "_zCRSC_ddK7_"
      },
      "source": [
        "with open('/content/drive/My Drive/archive/reviews_curtailed.pkl','rb') as file:\n",
        "    user_review = pickle5.load(file)"
      ],
      "execution_count": 61,
      "outputs": []
    },
    {
      "cell_type": "code",
      "metadata": {
        "colab": {
          "base_uri": "https://localhost:8080/",
          "height": 204
        },
        "id": "DtQmUX-1dkMc",
        "outputId": "279c1a72-4806-4304-b3d2-e2b253c2a352"
      },
      "source": [
        "user_review = user_review[['text','stars']]\n",
        "user_review.head()"
      ],
      "execution_count": 62,
      "outputs": [
        {
          "output_type": "execute_result",
          "data": {
            "text/html": [
              "<div>\n",
              "<style scoped>\n",
              "    .dataframe tbody tr th:only-of-type {\n",
              "        vertical-align: middle;\n",
              "    }\n",
              "\n",
              "    .dataframe tbody tr th {\n",
              "        vertical-align: top;\n",
              "    }\n",
              "\n",
              "    .dataframe thead th {\n",
              "        text-align: right;\n",
              "    }\n",
              "</style>\n",
              "<table border=\"1\" class=\"dataframe\">\n",
              "  <thead>\n",
              "    <tr style=\"text-align: right;\">\n",
              "      <th></th>\n",
              "      <th>text</th>\n",
              "      <th>stars</th>\n",
              "    </tr>\n",
              "  </thead>\n",
              "  <tbody>\n",
              "    <tr>\n",
              "      <th>4</th>\n",
              "      <td>Oh happy day, finally have a Canes near my cas...</td>\n",
              "      <td>4.0</td>\n",
              "    </tr>\n",
              "    <tr>\n",
              "      <th>5</th>\n",
              "      <td>This is definitely my favorite fast food sub s...</td>\n",
              "      <td>5.0</td>\n",
              "    </tr>\n",
              "    <tr>\n",
              "      <th>6</th>\n",
              "      <td>Really good place with simple decor, amazing f...</td>\n",
              "      <td>5.0</td>\n",
              "    </tr>\n",
              "    <tr>\n",
              "      <th>8</th>\n",
              "      <td>Most delicious authentic Italian I've had in t...</td>\n",
              "      <td>5.0</td>\n",
              "    </tr>\n",
              "    <tr>\n",
              "      <th>11</th>\n",
              "      <td>ORDER In (Delivery) Review\\n\\nI discovered thi...</td>\n",
              "      <td>4.0</td>\n",
              "    </tr>\n",
              "  </tbody>\n",
              "</table>\n",
              "</div>"
            ],
            "text/plain": [
              "                                                 text  stars\n",
              "4   Oh happy day, finally have a Canes near my cas...    4.0\n",
              "5   This is definitely my favorite fast food sub s...    5.0\n",
              "6   Really good place with simple decor, amazing f...    5.0\n",
              "8   Most delicious authentic Italian I've had in t...    5.0\n",
              "11  ORDER In (Delivery) Review\\n\\nI discovered thi...    4.0"
            ]
          },
          "metadata": {
            "tags": []
          },
          "execution_count": 62
        }
      ]
    },
    {
      "cell_type": "code",
      "metadata": {
        "colab": {
          "base_uri": "https://localhost:8080/"
        },
        "id": "kxoqlIhAeuUT",
        "outputId": "19f223fc-1553-4e60-ee44-a8569a61015c"
      },
      "source": [
        "user_review.shape"
      ],
      "execution_count": 63,
      "outputs": [
        {
          "output_type": "execute_result",
          "data": {
            "text/plain": [
              "(3305941, 2)"
            ]
          },
          "metadata": {
            "tags": []
          },
          "execution_count": 63
        }
      ]
    },
    {
      "cell_type": "markdown",
      "metadata": {
        "id": "Xs7CPPcwK4QC"
      },
      "source": [
        "Data is too big so taking a fraction to accomodate it in the Colab memory "
      ]
    },
    {
      "cell_type": "code",
      "metadata": {
        "colab": {
          "base_uri": "https://localhost:8080/"
        },
        "id": "gbEOthyyyhEm",
        "outputId": "39d34604-6fa3-480f-efe1-855d6c62c835"
      },
      "source": [
        "user_review.stars = user_review.stars.astype(int)\n",
        "user_review = user_review.sample(frac=0.1)\n",
        "user_review.shape"
      ],
      "execution_count": 64,
      "outputs": [
        {
          "output_type": "execute_result",
          "data": {
            "text/plain": [
              "(330594, 2)"
            ]
          },
          "metadata": {
            "tags": []
          },
          "execution_count": 64
        }
      ]
    },
    {
      "cell_type": "markdown",
      "metadata": {
        "id": "PgZD-iV6UHw0"
      },
      "source": [
        "Change stars to boolean value to predict if a review was positive or negative. Stars >3 will be a positive review and less than 3 will be negative reviews"
      ]
    },
    {
      "cell_type": "code",
      "metadata": {
        "colab": {
          "base_uri": "https://localhost:8080/",
          "height": 204
        },
        "id": "yk7QK2wnUGps",
        "outputId": "da6bd873-3fc8-4d8b-be0b-b83011c63279"
      },
      "source": [
        "user_review['label'] = np.where(user_review['stars']>=3,1,0)\n",
        "user_review.head()"
      ],
      "execution_count": 65,
      "outputs": [
        {
          "output_type": "execute_result",
          "data": {
            "text/html": [
              "<div>\n",
              "<style scoped>\n",
              "    .dataframe tbody tr th:only-of-type {\n",
              "        vertical-align: middle;\n",
              "    }\n",
              "\n",
              "    .dataframe tbody tr th {\n",
              "        vertical-align: top;\n",
              "    }\n",
              "\n",
              "    .dataframe thead th {\n",
              "        text-align: right;\n",
              "    }\n",
              "</style>\n",
              "<table border=\"1\" class=\"dataframe\">\n",
              "  <thead>\n",
              "    <tr style=\"text-align: right;\">\n",
              "      <th></th>\n",
              "      <th>text</th>\n",
              "      <th>stars</th>\n",
              "      <th>label</th>\n",
              "    </tr>\n",
              "  </thead>\n",
              "  <tbody>\n",
              "    <tr>\n",
              "      <th>7532887</th>\n",
              "      <td>I had a very good experience at the store I wa...</td>\n",
              "      <td>5</td>\n",
              "      <td>1</td>\n",
              "    </tr>\n",
              "    <tr>\n",
              "      <th>2984593</th>\n",
              "      <td>One off my favorite spot in Vegas to eat. To b...</td>\n",
              "      <td>5</td>\n",
              "      <td>1</td>\n",
              "    </tr>\n",
              "    <tr>\n",
              "      <th>1846807</th>\n",
              "      <td>The girls here are wonderful:) Yasmin in parti...</td>\n",
              "      <td>5</td>\n",
              "      <td>1</td>\n",
              "    </tr>\n",
              "    <tr>\n",
              "      <th>6777744</th>\n",
              "      <td>I violated my rule of avoiding grocery shoppin...</td>\n",
              "      <td>5</td>\n",
              "      <td>1</td>\n",
              "    </tr>\n",
              "    <tr>\n",
              "      <th>7627782</th>\n",
              "      <td>I LOVE nachos and these are hands down the bes...</td>\n",
              "      <td>5</td>\n",
              "      <td>1</td>\n",
              "    </tr>\n",
              "  </tbody>\n",
              "</table>\n",
              "</div>"
            ],
            "text/plain": [
              "                                                      text  stars  label\n",
              "7532887  I had a very good experience at the store I wa...      5      1\n",
              "2984593  One off my favorite spot in Vegas to eat. To b...      5      1\n",
              "1846807  The girls here are wonderful:) Yasmin in parti...      5      1\n",
              "6777744  I violated my rule of avoiding grocery shoppin...      5      1\n",
              "7627782  I LOVE nachos and these are hands down the bes...      5      1"
            ]
          },
          "metadata": {
            "tags": []
          },
          "execution_count": 65
        }
      ]
    },
    {
      "cell_type": "markdown",
      "metadata": {
        "id": "qBjmDwvALE8E"
      },
      "source": [
        "Preprocessing the text data"
      ]
    },
    {
      "cell_type": "code",
      "metadata": {
        "id": "gM-LFnbTLEG9",
        "colab": {
          "base_uri": "https://localhost:8080/",
          "height": 204
        },
        "outputId": "adeb6b80-06c9-4da9-9254-3d69c2445f10"
      },
      "source": [
        "user_review['text'] = user_review['text'].str.lower()\n",
        "user_review.head()"
      ],
      "execution_count": 66,
      "outputs": [
        {
          "output_type": "execute_result",
          "data": {
            "text/html": [
              "<div>\n",
              "<style scoped>\n",
              "    .dataframe tbody tr th:only-of-type {\n",
              "        vertical-align: middle;\n",
              "    }\n",
              "\n",
              "    .dataframe tbody tr th {\n",
              "        vertical-align: top;\n",
              "    }\n",
              "\n",
              "    .dataframe thead th {\n",
              "        text-align: right;\n",
              "    }\n",
              "</style>\n",
              "<table border=\"1\" class=\"dataframe\">\n",
              "  <thead>\n",
              "    <tr style=\"text-align: right;\">\n",
              "      <th></th>\n",
              "      <th>text</th>\n",
              "      <th>stars</th>\n",
              "      <th>label</th>\n",
              "    </tr>\n",
              "  </thead>\n",
              "  <tbody>\n",
              "    <tr>\n",
              "      <th>7532887</th>\n",
              "      <td>i had a very good experience at the store i wa...</td>\n",
              "      <td>5</td>\n",
              "      <td>1</td>\n",
              "    </tr>\n",
              "    <tr>\n",
              "      <th>2984593</th>\n",
              "      <td>one off my favorite spot in vegas to eat. to b...</td>\n",
              "      <td>5</td>\n",
              "      <td>1</td>\n",
              "    </tr>\n",
              "    <tr>\n",
              "      <th>1846807</th>\n",
              "      <td>the girls here are wonderful:) yasmin in parti...</td>\n",
              "      <td>5</td>\n",
              "      <td>1</td>\n",
              "    </tr>\n",
              "    <tr>\n",
              "      <th>6777744</th>\n",
              "      <td>i violated my rule of avoiding grocery shoppin...</td>\n",
              "      <td>5</td>\n",
              "      <td>1</td>\n",
              "    </tr>\n",
              "    <tr>\n",
              "      <th>7627782</th>\n",
              "      <td>i love nachos and these are hands down the bes...</td>\n",
              "      <td>5</td>\n",
              "      <td>1</td>\n",
              "    </tr>\n",
              "  </tbody>\n",
              "</table>\n",
              "</div>"
            ],
            "text/plain": [
              "                                                      text  stars  label\n",
              "7532887  i had a very good experience at the store i wa...      5      1\n",
              "2984593  one off my favorite spot in vegas to eat. to b...      5      1\n",
              "1846807  the girls here are wonderful:) yasmin in parti...      5      1\n",
              "6777744  i violated my rule of avoiding grocery shoppin...      5      1\n",
              "7627782  i love nachos and these are hands down the bes...      5      1"
            ]
          },
          "metadata": {
            "tags": []
          },
          "execution_count": 66
        }
      ]
    },
    {
      "cell_type": "markdown",
      "metadata": {
        "id": "dGgxeUADZkev"
      },
      "source": [
        "Train Test Split"
      ]
    },
    {
      "cell_type": "code",
      "metadata": {
        "id": "Yfl2lam0Zjpd"
      },
      "source": [
        "train, test = train_test_split(user_review, test_size=0.2, shuffle=True)\n",
        "train, valid = train_test_split(train, test_size=0.1, shuffle=True)"
      ],
      "execution_count": 67,
      "outputs": []
    },
    {
      "cell_type": "code",
      "metadata": {
        "id": "N_TyQ4Vo_uJw"
      },
      "source": [
        "def df_to_tensor(data):\n",
        "  data = user_review[['text','label']]\n",
        "  target = data.pop('label')\n",
        "  ### use np.array to create an array of text column instead of data.values, data.values will create a shape (10,1), we want (10,)\n",
        "  dataset = tf.data.Dataset.from_tensor_slices((np.array(data.text), target.values))\n",
        "  return dataset"
      ],
      "execution_count": 73,
      "outputs": []
    },
    {
      "cell_type": "code",
      "metadata": {
        "colab": {
          "base_uri": "https://localhost:8080/"
        },
        "id": "BFkvnAo7aPOU",
        "outputId": "9fc08cfd-1381-4b9a-c469-85fe61d2eff3"
      },
      "source": [
        "## example dataset\n",
        "next(iter(df_to_tensor(valid).batch(10)))"
      ],
      "execution_count": 74,
      "outputs": [
        {
          "output_type": "execute_result",
          "data": {
            "text/plain": [
              "(<tf.Tensor: shape=(10,), dtype=string, numpy=\n",
              " array([b'i had a very good experience at the store i was in there last week as soon as i walked in our young lady offered to help me find what i needed i told her what my budget was she showed me the uniforms that was in my price range and then i asked her what the dressing rooms were she want me over to it on the way i saw more uniforms that way in my budget. i was able to get everything that i needed and i told all my nursing  friends about this store. needless to say i was very very pleased and i will be returning',\n",
              "        b\"one off my favorite spot in vegas to eat. to bad that my bf is stubborn and afraid of food poisoning so we didn't eat there if not i will defiantly go back.\\\\n\\\\nanyways the menu change during the day which is cool but i think in my opinion the best menu is at midnight until morning.\\\\n\\\\nthe portion is big so you can be 2-3 people in one plate depends on what you order. last time i order that was something with fried chicken and waffle.\\\\nfollowing time something with chicken and mash potatoes however the food is so big so i wasn't able to finish it.\\\\n\\\\nbut it's a place to go and eat the price isn't that bad to be on the strip\\\\n\\\\ndefiantly coming back and to bad i don't remember the servers name he was amazing and made sure we was having a great time and got our food quick\",\n",
              "        b\"the girls here are wonderful:) yasmin in particular helped me. i wanted a specific wedding band to go with my engagement ring! the boulevard mall was the only location that had one left!! even online it would of been a special order! yasmin told me about layaway which is awesome because we didn't have all of the money right now but i couldn't lose my dream band!  i have a year to pay it off. our wedding is in 9 months so that's perfect! i only had to put 20% down and got the band that just looks dreamy with my ring it really looks like it was made to be with  my ring! i love it!\",\n",
              "        b\"i violated my rule of avoiding grocery shopping while hungry and decided to venture over to whole foods.  whole foods tends to be the indecisive individual's nightmare (that would be me).  yet, this store is a foodie's dream. \\\\n\\\\nthere are aisles upon aisles of glorious, wholesome products (pun intended).  everything is meticulously organized and there are at least ten varieties of every type of item.  no joke.  it took me fifteen minutes to decide which brand of bottled tea would be suitable (and economical). \\\\n\\\\ni roamed the freshly prepared food section like a vulture circling it's prey...strategizing which choice would be the best taste sensation.  did i want a made-to-order wrap?  or a glass of wine and a couple tapas? (the live music was alluring)...maybe sushi?  pizza?  salad bar?  soup? maybe something from the smokehouse...oooh! a cupcake from the cupcake bar? \\\\n\\\\non and on it went. \\\\n\\\\nmy final decision was sushi. the spicy tuna roll tasted fresh, and the pacific salad roll was very crisp. i also grabbed a container of ginger for $1.99--not the artificially preserved pink variety--all-natural pickled ginger.  bliss.  i purchased some cucumber salad from the salad bar as a side/palate cleanser. all in all, a very satisfying meal. \\\\n\\\\nprices are a tad higher than your average grocery store. then again, it is whole foods. a word of advise:  come with a game plan (e.g. a shopping list). if you don't define what it is you want prior to entering this store, you'll end up spending two hours and twice as much money than you anticipated.\",\n",
              "        b'i love nachos and these are hands down the best nachos i have ever had! i went here after running a marathon and all i wanted was nachos. i was blown away! everyone should go here!',\n",
              "        b\"i came here finally having lived in the valley for 25 years, ordered chicken bbq sandwich, my boyfriend ordered the pulled pork bbq sandwich. pulled pork was way too moist, and not in a good way. almost like it was sitting in water. not appetizing. the bbq chicken sandwich wasn't the best but not the worst either. the mac n cheese was made with nacho cheese which i think is disgusting. the only thing i would recommend was the kids hot dog which is vienna beef! service was great though! meh.\",\n",
              "        b'food was really good especially near christmas!  but first, they have great customer service.  i have a special needs son and the wait was going to be two hours.  i spoke with one of the service people and they got a manager to speak with me.  he was able to get me to the head of the line and a discount for him.  the person (marianna) in charge of the line was extremely nice and brought tears to my eyes.\\\\n\\\\nanyway, try the crab legs and shrimp cocktail (better than bacchanal), the duck breast, grilled duck legs, and of course, the goose.  they had great grilled lamb chops, prime rib and sushi.  selection is not as vast as bacchanal, but it is a lot cheaper and we found that my son likes the chicken mole sauce.\\\\n\\\\nreally, really good was the grilled sea bass.\\\\n\\\\nthe kobe beef was so so, but the other meats make up for it.\\\\n\\\\ndesserts were ok but the fresh fruit was excellent.\\\\n\\\\nthey have free beer and wine by the glass.\\\\n\\\\nwill be back.',\n",
              "        b'this place is great! went today with my mom and did the beer sample thing. the waiter was very very knowledgeable and we both found one we liked. we also had chicken wings and nachos which were very good. definitely going back.',\n",
              "        b\"i wanted to love this place because the reviews are so good. came in and placed a to go order and i should've checked the bag. my 'make your own' tomi ramen was missing the pork and the mushrooms, and the broth wasn't my favorite. i live 2 minutes away and by the time i got home my noodles were packed so tight in the extra box, it was like a huge ball. worst ramen i've had in vegas so far. the spicy edamame wasnt very flavorful. the takoyaki was good, and my friends veggie broth + crispy noodles were amazing! i will come back and try again and update my review. hoping for better on my next trip!\",\n",
              "        b\"it was okay, very much like j alexanders or houston's.  my food was good but not over the top.  when paying almost $20 for chicken strips you expect over the top.\"],\n",
              "       dtype=object)>,\n",
              " <tf.Tensor: shape=(10,), dtype=int64, numpy=array([1, 1, 1, 1, 1, 0, 1, 1, 1, 1])>)"
            ]
          },
          "metadata": {
            "tags": []
          },
          "execution_count": 74
        }
      ]
    },
    {
      "cell_type": "code",
      "metadata": {
        "id": "xLYWrq6VaPJM"
      },
      "source": [
        "train_data = df_to_tensor(train)\n",
        "valid_data = df_to_tensor(valid)\n",
        "test_data = df_to_tensor(test)"
      ],
      "execution_count": 75,
      "outputs": []
    },
    {
      "cell_type": "code",
      "metadata": {
        "colab": {
          "base_uri": "https://localhost:8080/"
        },
        "id": "8CZdMpZBVJTN",
        "outputId": "b8d045a1-0640-40ee-b32e-e43bc0e68efd"
      },
      "source": [
        "import tensorflow_hub as hub\n",
        "import tensorflow_datasets as tfds\n",
        "\n",
        "print(\"Version: \", tf.__version__)\n",
        "print(\"Eager mode: \", tf.executing_eagerly())\n",
        "print(\"Hub version: \", hub.__version__)\n",
        "print(\"GPU is\", \"available\" if tf.config.list_physical_devices(\"GPU\") else \"NOT AVAILABLE\")"
      ],
      "execution_count": 76,
      "outputs": [
        {
          "output_type": "stream",
          "text": [
            "Version:  2.4.1\n",
            "Eager mode:  True\n",
            "Hub version:  0.11.0\n",
            "GPU is available\n"
          ],
          "name": "stdout"
        }
      ]
    },
    {
      "cell_type": "markdown",
      "metadata": {
        "id": "nqeJnn4O2h6J"
      },
      "source": [
        "Embeddings from Tensorflow Hub"
      ]
    },
    {
      "cell_type": "code",
      "metadata": {
        "id": "dqZqZc-IWvdK"
      },
      "source": [
        "## Embeddings will change the shape of all sentences to a dimension of 50(in case of this embedding), irrespective of sentence length\n",
        "embedding = \"https://tfhub.dev/google/nnlm-en-dim50/2\"\n",
        "hub_layer = hub.KerasLayer(embedding, input_shape=[], \n",
        "                           dtype=tf.string, trainable=True)"
      ],
      "execution_count": 15,
      "outputs": []
    },
    {
      "cell_type": "code",
      "metadata": {
        "colab": {
          "base_uri": "https://localhost:8080/"
        },
        "id": "kqkXlD4j-VwI",
        "outputId": "93c85b62-79e3-496c-85b9-4839e3a02fcd"
      },
      "source": [
        "### Temporary examples of embeddings\n",
        "temp_train, temp_labels = next(iter(train_data.batch(5)))\n",
        "hub_layer(temp_train[:2])"
      ],
      "execution_count": 80,
      "outputs": [
        {
          "output_type": "execute_result",
          "data": {
            "text/plain": [
              "<tf.Tensor: shape=(2, 50), dtype=float32, numpy=\n",
              "array([[ 0.3326142 ,  0.13766728, -0.10483283,  0.78116024,  0.04657589,\n",
              "         0.10187986,  0.7211402 , -0.2967714 , -0.3339088 ,  0.34028798,\n",
              "        -0.01863033,  0.35074052,  0.30993348,  0.11579325, -0.30461624,\n",
              "        -0.3857032 , -0.03695595,  0.18487148,  0.15475176, -0.5163114 ,\n",
              "        -0.19074649,  0.06762648,  0.33590364, -0.03583926, -0.31726542,\n",
              "         0.24449469, -1.3563333 ,  0.01606731,  0.15576953, -0.12061935,\n",
              "        -0.0585728 ,  0.61368513,  0.92193604, -0.4416206 , -0.5482102 ,\n",
              "         0.20726408,  0.33545595, -0.10232715,  0.16410267, -0.30076176,\n",
              "         0.11632676,  0.5154865 , -0.29869187,  0.47768974, -0.05003402,\n",
              "         0.0180978 , -0.19847   , -0.5053115 , -0.12412173,  0.15891649],\n",
              "       [ 0.8205721 ,  0.02564078, -0.2729957 ,  0.5263815 , -0.19107832,\n",
              "        -0.22988442,  0.5678372 ,  0.17527197, -0.7139991 ,  0.44599622,\n",
              "         0.47246113,  0.21661897,  0.14366399,  0.15856886, -0.4217355 ,\n",
              "        -0.24407478, -0.14371791,  0.13600512,  0.3106142 , -0.95075494,\n",
              "        -0.1422181 , -0.26589876,  0.4126301 ,  0.34998402, -0.4846855 ,\n",
              "         0.3654423 , -1.2193236 , -0.12678589,  0.13023183, -0.294776  ,\n",
              "        -0.24366042,  0.3604515 ,  1.0926188 , -0.7770146 , -0.6578862 ,\n",
              "         0.2476751 ,  0.2229406 , -0.03718604,  0.08573751, -0.8192527 ,\n",
              "         0.12590602,  0.62064046,  0.08013991,  0.13574964, -0.32504398,\n",
              "         0.15205741, -0.5089832 , -0.42426497,  0.07386982,  0.29730234]],\n",
              "      dtype=float32)>"
            ]
          },
          "metadata": {
            "tags": []
          },
          "execution_count": 80
        }
      ]
    },
    {
      "cell_type": "code",
      "metadata": {
        "colab": {
          "base_uri": "https://localhost:8080/"
        },
        "id": "YVZpRoTFY5nI",
        "outputId": "12ea763f-55d5-42fa-dd5b-b71aa5425ef2"
      },
      "source": [
        "model = tf.keras.Sequential()\n",
        "model.add(hub_layer)\n",
        "model.add(tf.keras.layers.Dense(16, activation='relu'))\n",
        "model.add(tf.keras.layers.Dense(1))\n",
        "\n",
        "model.summary()"
      ],
      "execution_count": 81,
      "outputs": [
        {
          "output_type": "stream",
          "text": [
            "Model: \"sequential\"\n",
            "_________________________________________________________________\n",
            "Layer (type)                 Output Shape              Param #   \n",
            "=================================================================\n",
            "keras_layer (KerasLayer)     (None, 50)                48190600  \n",
            "_________________________________________________________________\n",
            "dense (Dense)                (None, 16)                816       \n",
            "_________________________________________________________________\n",
            "dense_1 (Dense)              (None, 1)                 17        \n",
            "=================================================================\n",
            "Total params: 48,191,433\n",
            "Trainable params: 48,191,433\n",
            "Non-trainable params: 0\n",
            "_________________________________________________________________\n"
          ],
          "name": "stdout"
        }
      ]
    },
    {
      "cell_type": "code",
      "metadata": {
        "id": "_Lyy_hbvZScv"
      },
      "source": [
        "model.compile(optimizer='adam',\n",
        "              loss=tf.keras.losses.BinaryCrossentropy(from_logits=True),\n",
        "              metrics=['accuracy'])"
      ],
      "execution_count": 82,
      "outputs": []
    },
    {
      "cell_type": "code",
      "metadata": {
        "colab": {
          "base_uri": "https://localhost:8080/"
        },
        "id": "mo49cJPUH0fl",
        "outputId": "fda54cc1-bf3d-4cd9-8e08-0f178bba3efa"
      },
      "source": [
        "history = model.fit(train_data.shuffle(10000).batch(512),\n",
        "                    epochs=10,\n",
        "                    validation_data=valid_data.batch(512),\n",
        "                    verbose=1)"
      ],
      "execution_count": 84,
      "outputs": [
        {
          "output_type": "stream",
          "text": [
            "Epoch 1/10\n",
            "646/646 [==============================] - 32s 46ms/step - loss: 0.3489 - accuracy: 0.8127 - val_loss: 0.1609 - val_accuracy: 0.9337\n",
            "Epoch 2/10\n",
            "646/646 [==============================] - 30s 46ms/step - loss: 0.1672 - accuracy: 0.9291 - val_loss: 0.1469 - val_accuracy: 0.9358\n",
            "Epoch 3/10\n",
            "646/646 [==============================] - 30s 47ms/step - loss: 0.1539 - accuracy: 0.9341 - val_loss: 0.1357 - val_accuracy: 0.9435\n",
            "Epoch 4/10\n",
            "646/646 [==============================] - 30s 47ms/step - loss: 0.1446 - accuracy: 0.9376 - val_loss: 0.1280 - val_accuracy: 0.9470\n",
            "Epoch 5/10\n",
            "646/646 [==============================] - 30s 46ms/step - loss: 0.1361 - accuracy: 0.9409 - val_loss: 0.1188 - val_accuracy: 0.9486\n",
            "Epoch 6/10\n",
            "646/646 [==============================] - 30s 46ms/step - loss: 0.1278 - accuracy: 0.9443 - val_loss: 0.1115 - val_accuracy: 0.9531\n",
            "Epoch 7/10\n",
            "646/646 [==============================] - 30s 46ms/step - loss: 0.1200 - accuracy: 0.9473 - val_loss: 0.1048 - val_accuracy: 0.9574\n",
            "Epoch 8/10\n",
            "646/646 [==============================] - 30s 46ms/step - loss: 0.1125 - accuracy: 0.9503 - val_loss: 0.0941 - val_accuracy: 0.9596\n",
            "Epoch 9/10\n",
            "646/646 [==============================] - 30s 46ms/step - loss: 0.1037 - accuracy: 0.9546 - val_loss: 0.0861 - val_accuracy: 0.9644\n",
            "Epoch 10/10\n",
            "646/646 [==============================] - 30s 46ms/step - loss: 0.0956 - accuracy: 0.9584 - val_loss: 0.0772 - val_accuracy: 0.9673\n"
          ],
          "name": "stdout"
        }
      ]
    },
    {
      "cell_type": "markdown",
      "metadata": {
        "id": "EXkyb-0PJSZY"
      },
      "source": [
        "Evaluate model on test data"
      ]
    },
    {
      "cell_type": "code",
      "metadata": {
        "colab": {
          "base_uri": "https://localhost:8080/"
        },
        "id": "a3KFupueH5PI",
        "outputId": "7232da68-fbd3-4d89-b696-39c7a0b86592"
      },
      "source": [
        "results = model.evaluate(test_data.batch(512), verbose=2)\n",
        "\n",
        "for name, value in zip(model.metrics_names, results):\n",
        "  print(\"%s: %.3f\" % (name, value))"
      ],
      "execution_count": 85,
      "outputs": [
        {
          "output_type": "stream",
          "text": [
            "646/646 - 6s - loss: 0.0772 - accuracy: 0.9673\n",
            "loss: 0.077\n",
            "accuracy: 0.967\n"
          ],
          "name": "stdout"
        }
      ]
    },
    {
      "cell_type": "code",
      "metadata": {
        "id": "2epUMk2QJexX"
      },
      "source": [
        ""
      ],
      "execution_count": null,
      "outputs": []
    }
  ]
}